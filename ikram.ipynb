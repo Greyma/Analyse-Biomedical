{
 "cells": [
  {
   "cell_type": "code",
   "execution_count": 1,
   "metadata": {},
   "outputs": [],
   "source": [
    "# prompt: decouper image 360 en plusieurs séquences d'images qui se recouvrent à 60%\n",
    "\n",
    "from PIL import Image\n",
    "\n",
    "def split_image_with_overlap(image_path, output_folder, overlap_percentage,N,M):\n",
    "  \"\"\"\n",
    "  Découpe une image en plusieurs séquences d'images avec recouvrement.\n",
    "\n",
    "  Args:\n",
    "    image_path: Chemin vers l'image à découper.\n",
    "    output_folder: Chemin vers le dossier de sortie pour les séquences d'images.\n",
    "    sequence_length: Longueur de chaque séquence d'images.\n",
    "    overlap_percentage: Pourcentage de recouvrement entre les séquences.\n",
    "  \"\"\"\n",
    "  try:\n",
    "    img = Image.open(image_path)\n",
    "    width, height = img.size\n",
    "\n",
    "    # Calcul de la longueur du recouvrement\n",
    "    overlap_length = overlap_percentage / 100\n",
    "\n",
    "    # Calcul du nombre de séquences\n",
    "    num_sequences = int(width / N )\n",
    "    j = 0\n",
    "    for k in range(1,M+1):\n",
    "      for i in range(0,width,int(num_sequences*overlap_length)):\n",
    "        start_x = i\n",
    "        end_x = start_x + num_sequences\n",
    "        if end_x > width:\n",
    "          end_x = width\n",
    "          start_x = end_x - num_sequences\n",
    "         \n",
    "        upper = (height/M ) * (k-1)\n",
    "        lower = (height/M) * k\n",
    "        sequence = img.crop( (start_x, upper, end_x,lower) )\n",
    "\n",
    "        # Enregistrement de la séquence\n",
    "        sequence.save(f\"{output_folder}/sequence_{j}.jpg\")\n",
    "        j = j + 1\n",
    "\n",
    "  except Exception as e:\n",
    "    print(f\"Une erreur s'est produite : {e}\")"
   ]
  },
  {
   "cell_type": "code",
   "execution_count": 2,
   "metadata": {},
   "outputs": [],
   "source": [
    "# Exemple d'utilisation\n",
    "image_path = \"c:\\\\Users\\\\Cherif\\\\Downloads\\\\IMG_20231129_013058_00_095.jpg\"  # Remplacez par le chemin de votre image\n",
    "output_folder = \"output\"  # Remplacez par le chemin du dossier de sortie\n",
    "overlap_percentage = 60  # Pourcentage de recouvrement\n",
    "\n",
    "N = 4 # si ta une image de largeur 4000 tu aura une largeur 4000 / N ( supposant N = 4 ) \n",
    "      #alors t'aura des séquance d'image avec 1000px largeur\n",
    "\n",
    "M = 3 # c pour choisir le découpe de heuteur ( sur 3  ou  2 )\n",
    "\n",
    "split_image_with_overlap(image_path, output_folder,overlap_percentage,N,M)\n"
   ]
  },
  {
   "cell_type": "code",
   "execution_count": null,
   "metadata": {},
   "outputs": [],
   "source": []
  }
 ],
 "metadata": {
  "kernelspec": {
   "display_name": "base",
   "language": "python",
   "name": "python3"
  },
  "language_info": {
   "codemirror_mode": {
    "name": "ipython",
    "version": 3
   },
   "file_extension": ".py",
   "mimetype": "text/x-python",
   "name": "python",
   "nbconvert_exporter": "python",
   "pygments_lexer": "ipython3",
   "version": "3.11.5"
  }
 },
 "nbformat": 4,
 "nbformat_minor": 2
}
